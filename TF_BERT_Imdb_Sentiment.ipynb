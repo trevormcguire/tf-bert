{
  "nbformat": 4,
  "nbformat_minor": 0,
  "metadata": {
    "colab": {
      "name": "TF-BERT-Imdb-Sentiment.ipynb",
      "provenance": [],
      "collapsed_sections": []
    },
    "kernelspec": {
      "name": "python3",
      "display_name": "Python 3"
    },
    "language_info": {
      "name": "python"
    },
    "accelerator": "GPU"
  },
  "cells": [
    {
      "cell_type": "code",
      "metadata": {
        "colab": {
          "base_uri": "https://localhost:8080/"
        },
        "id": "L7ZLtlcFWCNL",
        "outputId": "d4defa05-95d6-46ba-ab0d-2346e871b395"
      },
      "source": [
        "! pip install -q -U tensorflow-text\n",
        "! pip install -q tf-models-official\n"
      ],
      "execution_count": 1,
      "outputs": [
        {
          "output_type": "stream",
          "text": [
            "\u001b[K     |████████████████████████████████| 4.4 MB 8.6 MB/s \n",
            "\u001b[?25h"
          ],
          "name": "stdout"
        }
      ]
    },
    {
      "cell_type": "code",
      "metadata": {
        "id": "mV8BnvaOWQtm"
      },
      "source": [
        "from os import path, listdir\n",
        "import shutil\n",
        "from typing import *\n",
        "from ast import literal_eval\n",
        "\n",
        "import tensorflow as tf\n",
        "import tensorflow_hub as hub\n",
        "import tensorflow_text as text\n",
        "\n",
        "from official.nlp import optimization\n",
        "\n",
        "import matplotlib.pyplot as plt\n",
        "\n",
        "tf.get_logger().setLevel('ERROR')\n"
      ],
      "execution_count": 1,
      "outputs": []
    },
    {
      "cell_type": "code",
      "metadata": {
        "id": "k8n05glCYeQu"
      },
      "source": [
        "class IMDB_Dataset(object):\n",
        "    def __init__(self, batch_size: int, seed: int):\n",
        "        self.source = \"https://ai.stanford.edu/~amaas/data/sentiment/aclImdb_v1.tar.gz\"\n",
        "        self.__load()\n",
        "        self.AUTOTUNE = tf.data.AUTOTUNE\n",
        "        self.batch_size = batch_size\n",
        "        self.seed = seed\n",
        "\n",
        "    def __load(self):\n",
        "        \"\"\"\n",
        "        Checks if aclImdb dir was created previously or not. If not, the data is downloaded from self.source and the path is created.\n",
        "        aclImdb will have two subdirs, \"train\" and \"test\"\n",
        "        \"\"\"\n",
        "        #---------------------------------\n",
        "        def download_data():\n",
        "            self.data = tf.keras.utils.get_file('aclImdb_v1.tar.gz', self.source, untar=True, cache_dir='.', cache_subdir='')\n",
        "            self.data_path = path.join(path.dirname(self.data), 'aclImdb')\n",
        "            self.train_path = path.join(self.data_path, 'train')\n",
        "            shutil.rmtree(path.join(self.train_path, 'unsup'))\n",
        "        #---------------------------------\n",
        "        if not path.exists(\"aclImdb\"):\n",
        "            download_data()\n",
        "        else:\n",
        "            imdb_dir = listdir(\"aclImdb\")\n",
        "            if not \"test\" in imdb_dir or not \"train\" in imdb_dir:\n",
        "                download_data()\n",
        "    \n",
        "    def generate(self, val_split_perc: float):\n",
        "        raw_train_ds = tf.keras.preprocessing.text_dataset_from_directory(\n",
        "            'aclImdb/train',\n",
        "            batch_size=self.batch_size,\n",
        "            validation_split=val_split_perc,\n",
        "            subset='training',\n",
        "            seed=self.seed\n",
        "            )\n",
        "        \n",
        "        self.classes = raw_train_ds.class_names\n",
        "        self.train_ds = raw_train_ds.cache().prefetch(buffer_size=self.AUTOTUNE)\n",
        "        self.val_ds = tf.keras.preprocessing.text_dataset_from_directory(\n",
        "            'aclImdb/train',\n",
        "            batch_size=self.batch_size,\n",
        "            validation_split=val_split_perc,\n",
        "            subset='validation',\n",
        "            seed=self.seed\n",
        "            ).cache().prefetch(buffer_size=self.AUTOTUNE)\n",
        "\n",
        "        self.test_ds = tf.keras.preprocessing.text_dataset_from_directory(\n",
        "            'aclImdb/test',\n",
        "            batch_size=self.batch_size\n",
        "            ).cache().prefetch(buffer_size=self.AUTOTUNE)\n",
        "        \n",
        "        \n",
        "        \n",
        "def get_bert_model(model_name: str, path: str = \"\") -> tuple:\n",
        "    if path:\n",
        "        handler_path = f\"{path}/bert_handler.txt\"\n",
        "        preprocess_path = f\"{path}/bert_preprocess.txt\"\n",
        "        files = listdir(path)\n",
        "    else:\n",
        "        handler_path, preprocess_path = \"bert_handler.txt\", \"bert_preprocess.txt\"\n",
        "        files = listdir()\n",
        "    assert handler_path.split(\"/\")[-1] in files and preprocess_path.split(\"/\")[-1] in files, \"Could not find bert_handler.txt or bert_preprocess.txt in {}\".format(path)\n",
        "    with open(handler_path, \"r\") as f:\n",
        "        bert_handle_map = literal_eval(f.read())\n",
        "    with open(preprocess_path, \"r\") as f:\n",
        "        bert_preprocess_map = literal_eval(f.read())\n",
        "    \n",
        "    encoder, preprocesser = bert_handle_map[model_name], bert_preprocess_map[model_name]\n",
        "    bert_pp_model = hub.KerasLayer(preprocesser) #preprocessing for bert\n",
        "    bert_encoder_model = hub.KerasLayer(encoder, trainable=True)   #bert model\n",
        "    return bert_pp_model, bert_encoder_model\n",
        "\n",
        "\n",
        "\n",
        "\n",
        "class BuildClassifier:\n",
        "    def __init__(self, \n",
        "                 preprocessing: hub.keras_layer.KerasLayer, \n",
        "                 model: hub.keras_layer.KerasLayer):\n",
        "        self.preprocessing = preprocessing\n",
        "        self.model = model\n",
        "    \n",
        "    def build(self) -> tf.keras.Model:\n",
        "        text = tf.keras.layers.Input(shape=(), dtype=tf.string, name='input_layer')\n",
        "        pp_layer = hub.KerasLayer(self.preprocessing, name='preprocessing_layer')\n",
        "        encoder_inputs = pp_layer(text)\n",
        "        encoder = hub.KerasLayer(self.model, trainable=True, name='BERT_Encoder')\n",
        "        outputs = encoder(encoder_inputs)\n",
        "        clf_net = outputs['pooled_output']\n",
        "        clf_net = tf.keras.layers.Dropout(0.1)(clf_net)\n",
        "        clf_net = tf.keras.layers.Dense(1, activation=None, name='Classifier')(clf_net)\n",
        "        return tf.keras.Model(text, clf_net)\n",
        "\n",
        "\n"
      ],
      "execution_count": 2,
      "outputs": []
    },
    {
      "cell_type": "code",
      "metadata": {
        "colab": {
          "base_uri": "https://localhost:8080/"
        },
        "id": "KuXQth0nWQxR",
        "outputId": "0deadda6-88da-41ea-ab8f-e1b484d8591c"
      },
      "source": [
        "BATCH_SIZE = 32\n",
        "SEED = 42\n",
        "\n",
        "data = IMDB_Dataset(batch_size=BATCH_SIZE, seed=SEED)\n",
        "data.generate(val_split_perc=0.2)\n",
        "data.classes\n"
      ],
      "execution_count": 3,
      "outputs": [
        {
          "output_type": "stream",
          "text": [
            "Found 25000 files belonging to 2 classes.\n",
            "Using 20000 files for training.\n",
            "Found 25000 files belonging to 2 classes.\n",
            "Using 5000 files for validation.\n",
            "Found 25000 files belonging to 2 classes.\n"
          ],
          "name": "stdout"
        },
        {
          "output_type": "execute_result",
          "data": {
            "text/plain": [
              "['neg', 'pos']"
            ]
          },
          "metadata": {},
          "execution_count": 3
        }
      ]
    },
    {
      "cell_type": "code",
      "metadata": {
        "id": "7XVBri5yiKXv"
      },
      "source": [
        "bert_preprocessing, bert_model = get_bert_model('small_bert/bert_en_uncased_L-4_H-512_A-8')\n",
        "\n"
      ],
      "execution_count": 4,
      "outputs": []
    },
    {
      "cell_type": "code",
      "metadata": {
        "colab": {
          "base_uri": "https://localhost:8080/"
        },
        "id": "TDdEDWeUco09",
        "outputId": "6c9452fc-154b-4f81-fa81-81533552a00e"
      },
      "source": [
        "for t, l in data.train_ds.take(1):\n",
        "    for i in range(3):\n",
        "        print(f'Review: {t.numpy()[i]}')\n",
        "        y = l.numpy()[i]\n",
        "        print(f'Label : {y} ({data.classes[y]})')"
      ],
      "execution_count": 5,
      "outputs": [
        {
          "output_type": "stream",
          "text": [
            "Review: b'\"Pandemonium\" is a horror movie spoof that comes off more stupid than funny. Believe me when I tell you, I love comedies. Especially comedy spoofs. \"Airplane\", \"The Naked Gun\" trilogy, \"Blazing Saddles\", \"High Anxiety\", and \"Spaceballs\" are some of my favorite comedies that spoof a particular genre. \"Pandemonium\" is not up there with those films. Most of the scenes in this movie had me sitting there in stunned silence because the movie wasn\\'t all that funny. There are a few laughs in the film, but when you watch a comedy, you expect to laugh a lot more than a few times and that\\'s all this film has going for it. Geez, \"Scream\" had more laughs than this film and that was more of a horror film. How bizarre is that?<br /><br />*1/2 (out of four)'\n",
            "Label : 0 (neg)\n",
            "Review: b\"David Mamet is a very interesting and a very un-equal director. His first movie 'House of Games' was the one I liked best, and it set a series of films with characters whose perspective of life changes as they get into complicated situations, and so does the perspective of the viewer.<br /><br />So is 'Homicide' which from the title tries to set the mind of the viewer to the usual crime drama. The principal characters are two cops, one Jewish and one Irish who deal with a racially charged area. The murder of an old Jewish shop owner who proves to be an ancient veteran of the Israeli Independence war triggers the Jewish identity in the mind and heart of the Jewish detective.<br /><br />This is were the flaws of the film are the more obvious. The process of awakening is theatrical and hard to believe, the group of Jewish militants is operatic, and the way the detective eventually walks to the final violent confrontation is pathetic. The end of the film itself is Mamet-like smart, but disappoints from a human emotional perspective.<br /><br />Joe Mantegna and William Macy give strong performances, but the flaws of the story are too evident to be easily compensated.\"\n",
            "Label : 0 (neg)\n",
            "Review: b'Great documentary about the lives of NY firefighters during the worst terrorist attack of all time.. That reason alone is why this should be a must see collectors item.. What shocked me was not only the attacks, but the\"High Fat Diet\" and physical appearance of some of these firefighters. I think a lot of Doctors would agree with me that,in the physical shape they were in, some of these firefighters would NOT of made it to the 79th floor carrying over 60 lbs of gear. Having said that i now have a greater respect for firefighters and i realize becoming a firefighter is a life altering job. The French have a history of making great documentary\\'s and that is what this is, a Great Documentary.....'\n",
            "Label : 1 (pos)\n"
          ],
          "name": "stdout"
        }
      ]
    },
    {
      "cell_type": "code",
      "metadata": {
        "colab": {
          "base_uri": "https://localhost:8080/",
          "height": 466
        },
        "id": "hAdYkqt_mRJK",
        "outputId": "8a05ffcc-e136-4bf6-91ad-28e6c579e1e7"
      },
      "source": [
        "model = BuildClassifier(preprocessing=bert_preprocessing, model=bert_model).build()\n",
        "tf.keras.utils.plot_model(model)"
      ],
      "execution_count": 6,
      "outputs": [
        {
          "output_type": "execute_result",
          "data": {
            "image/png": "[encoded data removed]",
            "text/plain": [
              "<IPython.core.display.Image object>"
            ]
          },
          "metadata": {},
          "execution_count": 6
        }
      ]
    },
    {
      "cell_type": "code",
      "metadata": {
        "id": "Ey1agqZqnmWm"
      },
      "source": [
        "loss, metrics = tf.keras.losses.BinaryCrossentropy(from_logits=True), tf.metrics.BinaryAccuracy()\n"
      ],
      "execution_count": 7,
      "outputs": []
    },
    {
      "cell_type": "code",
      "metadata": {
        "id": "OzY6Koygninf"
      },
      "source": [
        "EPOCHS = 5\n",
        "steps_per_epoch = tf.data.experimental.cardinality(data.train_ds).numpy()\n",
        "train_steps = steps_per_epoch * EPOCHS\n",
        "primer_steps = int(0.1*train_steps)\n",
        "\n",
        "init_lr = 3e-5\n",
        "optimizer = optimization.create_optimizer(init_lr=init_lr,\n",
        "                                          num_train_steps=train_steps,\n",
        "                                          num_warmup_steps=primer_steps,\n",
        "                                          optimizer_type='adamw')\n"
      ],
      "execution_count": 8,
      "outputs": []
    },
    {
      "cell_type": "code",
      "metadata": {
        "id": "l41R1Naxn-bU"
      },
      "source": [
        "model.compile(optimizer=optimizer, loss=loss, metrics=metrics)\n"
      ],
      "execution_count": 10,
      "outputs": []
    },
    {
      "cell_type": "code",
      "metadata": {
        "colab": {
          "base_uri": "https://localhost:8080/"
        },
        "id": "6v8GSNI8oCKZ",
        "outputId": "54c15759-952e-40cb-d4eb-95dcb6beb70f"
      },
      "source": [
        "history = model.fit(x=data.train_ds, validation_data=data.val_ds, epochs=EPOCHS)\n",
        "\n"
      ],
      "execution_count": 11,
      "outputs": [
        {
          "output_type": "stream",
          "text": [
            "Epoch 1/5\n",
            "625/625 [==============================] - 160s 247ms/step - loss: 0.4820 - binary_accuracy: 0.7459 - val_loss: 0.3957 - val_binary_accuracy: 0.8350\n",
            "Epoch 2/5\n",
            "625/625 [==============================] - 152s 243ms/step - loss: 0.3279 - binary_accuracy: 0.8504 - val_loss: 0.3695 - val_binary_accuracy: 0.8406\n",
            "Epoch 3/5\n",
            "625/625 [==============================] - 152s 243ms/step - loss: 0.2496 - binary_accuracy: 0.8939 - val_loss: 0.4013 - val_binary_accuracy: 0.8488\n",
            "Epoch 4/5\n",
            "625/625 [==============================] - 151s 242ms/step - loss: 0.1904 - binary_accuracy: 0.9262 - val_loss: 0.4627 - val_binary_accuracy: 0.8482\n",
            "Epoch 5/5\n",
            "625/625 [==============================] - 151s 242ms/step - loss: 0.1511 - binary_accuracy: 0.9424 - val_loss: 0.4811 - val_binary_accuracy: 0.8532\n"
          ],
          "name": "stdout"
        }
      ]
    },
    {
      "cell_type": "code",
      "metadata": {
        "colab": {
          "base_uri": "https://localhost:8080/"
        },
        "id": "CGjLo756oRBO",
        "outputId": "0081c7ef-de25-4599-9d34-014b3a07dded"
      },
      "source": [
        "loss, accuracy = model.evaluate(data.test_ds)\n",
        "print(f'Loss: {loss} || Accuracy: {accuracy}')\n",
        "\n"
      ],
      "execution_count": 12,
      "outputs": [
        {
          "output_type": "stream",
          "text": [
            "782/782 [==============================] - 84s 108ms/step - loss: 0.4665 - binary_accuracy: 0.8544\n",
            "Loss: 0.46650683879852295 || Accuracy: 0.8543999791145325\n"
          ],
          "name": "stdout"
        }
      ]
    }
  ]
}
